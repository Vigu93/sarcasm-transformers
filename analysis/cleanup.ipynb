{
 "cells": [
  {
   "cell_type": "code",
   "execution_count": 2,
   "id": "d8425b03",
   "metadata": {},
   "outputs": [],
   "source": [
    "src_df = pd.read_csv(\"data/train-balanced-sarcasm-cleaned.csv\")"
   ]
  },
  {
   "cell_type": "code",
   "execution_count": 3,
   "id": "7b9b2801",
   "metadata": {
    "scrolled": true
   },
   "outputs": [
    {
     "name": "stdout",
     "output_type": "stream",
     "text": [
      "Collecting emoji\n",
      "  Downloading emoji-1.7.0.tar.gz (175 kB)\n",
      "     |████████████████████████████████| 175 kB 24.9 MB/s            \n",
      "\u001b[?25h  Preparing metadata (setup.py) ... \u001b[?25ldone\n",
      "\u001b[?25hCollecting transformers\n",
      "  Downloading transformers-4.18.0-py3-none-any.whl (4.0 MB)\n",
      "     |████████████████████████████████| 4.0 MB 67.9 MB/s            \n",
      "\u001b[?25hCollecting huggingface-hub<1.0,>=0.1.0\n",
      "  Downloading huggingface_hub-0.4.0-py3-none-any.whl (67 kB)\n",
      "     |████████████████████████████████| 67 kB 792 kB/s             \n",
      "\u001b[?25hRequirement already satisfied: regex!=2019.12.17 in /home/ec2-user/anaconda3/envs/pytorch_p36/lib/python3.6/site-packages (from transformers->-r requirements.txt (line 2)) (2021.4.4)\n",
      "Collecting tokenizers!=0.11.3,<0.13,>=0.11.1\n",
      "  Downloading tokenizers-0.12.1-cp36-cp36m-manylinux_2_12_x86_64.manylinux2010_x86_64.whl (6.6 MB)\n",
      "     |████████████████████████████████| 6.6 MB 74.6 MB/s            \n",
      "\u001b[?25hRequirement already satisfied: numpy>=1.17 in /home/ec2-user/anaconda3/envs/pytorch_p36/lib/python3.6/site-packages (from transformers->-r requirements.txt (line 2)) (1.19.5)\n",
      "Requirement already satisfied: requests in /home/ec2-user/anaconda3/envs/pytorch_p36/lib/python3.6/site-packages (from transformers->-r requirements.txt (line 2)) (2.25.1)\n",
      "Requirement already satisfied: tqdm>=4.27 in /home/ec2-user/anaconda3/envs/pytorch_p36/lib/python3.6/site-packages (from transformers->-r requirements.txt (line 2)) (4.61.1)\n",
      "Requirement already satisfied: dataclasses in /home/ec2-user/anaconda3/envs/pytorch_p36/lib/python3.6/site-packages (from transformers->-r requirements.txt (line 2)) (0.8)\n",
      "Collecting sacremoses\n",
      "  Downloading sacremoses-0.0.53.tar.gz (880 kB)\n",
      "     |████████████████████████████████| 880 kB 64.3 MB/s            \n",
      "\u001b[?25h  Preparing metadata (setup.py) ... \u001b[?25ldone\n",
      "\u001b[?25hRequirement already satisfied: importlib-metadata in /home/ec2-user/anaconda3/envs/pytorch_p36/lib/python3.6/site-packages (from transformers->-r requirements.txt (line 2)) (4.5.0)\n",
      "Requirement already satisfied: packaging>=20.0 in /home/ec2-user/anaconda3/envs/pytorch_p36/lib/python3.6/site-packages (from transformers->-r requirements.txt (line 2)) (21.3)\n",
      "Requirement already satisfied: pyyaml>=5.1 in /home/ec2-user/anaconda3/envs/pytorch_p36/lib/python3.6/site-packages (from transformers->-r requirements.txt (line 2)) (5.4.1)\n",
      "Requirement already satisfied: filelock in /home/ec2-user/anaconda3/envs/pytorch_p36/lib/python3.6/site-packages (from transformers->-r requirements.txt (line 2)) (3.0.12)\n",
      "Requirement already satisfied: typing-extensions>=3.7.4.3 in /home/ec2-user/anaconda3/envs/pytorch_p36/lib/python3.6/site-packages (from huggingface-hub<1.0,>=0.1.0->transformers->-r requirements.txt (line 2)) (3.10.0.0)\n",
      "Requirement already satisfied: pyparsing!=3.0.5,>=2.0.2 in /home/ec2-user/anaconda3/envs/pytorch_p36/lib/python3.6/site-packages (from packaging>=20.0->transformers->-r requirements.txt (line 2)) (2.4.7)\n",
      "Requirement already satisfied: zipp>=0.5 in /home/ec2-user/anaconda3/envs/pytorch_p36/lib/python3.6/site-packages (from importlib-metadata->transformers->-r requirements.txt (line 2)) (3.4.1)\n",
      "Requirement already satisfied: idna<3,>=2.5 in /home/ec2-user/anaconda3/envs/pytorch_p36/lib/python3.6/site-packages (from requests->transformers->-r requirements.txt (line 2)) (2.10)\n",
      "Requirement already satisfied: urllib3<1.27,>=1.21.1 in /home/ec2-user/anaconda3/envs/pytorch_p36/lib/python3.6/site-packages (from requests->transformers->-r requirements.txt (line 2)) (1.26.8)\n",
      "Requirement already satisfied: chardet<5,>=3.0.2 in /home/ec2-user/anaconda3/envs/pytorch_p36/lib/python3.6/site-packages (from requests->transformers->-r requirements.txt (line 2)) (4.0.0)\n",
      "Requirement already satisfied: certifi>=2017.4.17 in /home/ec2-user/anaconda3/envs/pytorch_p36/lib/python3.6/site-packages (from requests->transformers->-r requirements.txt (line 2)) (2021.5.30)\n",
      "Requirement already satisfied: six in /home/ec2-user/anaconda3/envs/pytorch_p36/lib/python3.6/site-packages (from sacremoses->transformers->-r requirements.txt (line 2)) (1.16.0)\n",
      "Requirement already satisfied: click in /home/ec2-user/anaconda3/envs/pytorch_p36/lib/python3.6/site-packages (from sacremoses->transformers->-r requirements.txt (line 2)) (8.0.1)\n",
      "Requirement already satisfied: joblib in /home/ec2-user/anaconda3/envs/pytorch_p36/lib/python3.6/site-packages (from sacremoses->transformers->-r requirements.txt (line 2)) (1.0.1)\n",
      "Building wheels for collected packages: emoji, sacremoses\n",
      "  Building wheel for emoji (setup.py) ... \u001b[?25ldone\n",
      "\u001b[?25h  Created wheel for emoji: filename=emoji-1.7.0-py3-none-any.whl size=170372 sha256=9c71ca74c2dc5a51e72a2a09c552dcfe455e83fb2ec729ce5e96625086b969b6\n",
      "  Stored in directory: /home/ec2-user/.cache/pip/wheels/b7/c0/67/93ab86d74ab81bb91fd8611c497dbb7a4c26e4d941caddf70c\n",
      "  Building wheel for sacremoses (setup.py) ... \u001b[?25ldone\n",
      "\u001b[?25h  Created wheel for sacremoses: filename=sacremoses-0.0.53-py3-none-any.whl size=909303 sha256=ab8f278fa4fe3bbb183ab693145a19a05f7814c15ef85c3070acd9c8e74375ca\n",
      "  Stored in directory: /home/ec2-user/.cache/pip/wheels/4c/64/31/e9900a234b23fb3e9dc565d6114a9d6ff84a72dbdd356502b4\n",
      "Successfully built emoji sacremoses\n",
      "Installing collected packages: tokenizers, sacremoses, huggingface-hub, transformers, emoji\n",
      "Successfully installed emoji-1.7.0 huggingface-hub-0.4.0 sacremoses-0.0.53 tokenizers-0.12.1 transformers-4.18.0\n"
     ]
    }
   ],
   "source": [
    "! pip install -r requirements.txt"
   ]
  },
  {
   "cell_type": "code",
   "execution_count": 4,
   "id": "5c5a31fb",
   "metadata": {},
   "outputs": [
    {
     "data": {
      "application/vnd.jupyter.widget-view+json": {
       "model_id": "50a0fdf89fde42249e88583c0f7de8c9",
       "version_major": 2,
       "version_minor": 0
      },
      "text/plain": [
       "Downloading:   0%|          | 0.00/481 [00:00<?, ?B/s]"
      ]
     },
     "metadata": {},
     "output_type": "display_data"
    },
    {
     "data": {
      "application/vnd.jupyter.widget-view+json": {
       "model_id": "84646240914f4fa9aec414e64fd0b1e7",
       "version_major": 2,
       "version_minor": 0
      },
      "text/plain": [
       "Downloading:   0%|          | 0.00/878k [00:00<?, ?B/s]"
      ]
     },
     "metadata": {},
     "output_type": "display_data"
    },
    {
     "data": {
      "application/vnd.jupyter.widget-view+json": {
       "model_id": "69121ee9f89b45658d22fd8618907b91",
       "version_major": 2,
       "version_minor": 0
      },
      "text/plain": [
       "Downloading:   0%|          | 0.00/446k [00:00<?, ?B/s]"
      ]
     },
     "metadata": {},
     "output_type": "display_data"
    },
    {
     "data": {
      "application/vnd.jupyter.widget-view+json": {
       "model_id": "72752586d4c74a8f8f64bae19475b993",
       "version_major": 2,
       "version_minor": 0
      },
      "text/plain": [
       "Downloading:   0%|          | 0.00/1.29M [00:00<?, ?B/s]"
      ]
     },
     "metadata": {},
     "output_type": "display_data"
    },
    {
     "data": {
      "application/vnd.jupyter.widget-view+json": {
       "model_id": "7df9a5945c25442e851542ceb5a740e7",
       "version_major": 2,
       "version_minor": 0
      },
      "text/plain": [
       "Downloading:   0%|          | 0.00/478M [00:00<?, ?B/s]"
      ]
     },
     "metadata": {},
     "output_type": "display_data"
    }
   ],
   "source": [
    "from transformers import AutoTokenizer, AutoModelForMaskedLM\n",
    "\n",
    "tokenizer = AutoTokenizer.from_pretrained(\"roberta-base\")\n",
    "\n",
    "model = AutoModelForMaskedLM.from_pretrained(\"roberta-base\")"
   ]
  },
  {
   "cell_type": "code",
   "execution_count": 5,
   "id": "4d196cd0",
   "metadata": {},
   "outputs": [
    {
     "data": {
      "text/html": [
       "<div>\n",
       "<style scoped>\n",
       "    .dataframe tbody tr th:only-of-type {\n",
       "        vertical-align: middle;\n",
       "    }\n",
       "\n",
       "    .dataframe tbody tr th {\n",
       "        vertical-align: top;\n",
       "    }\n",
       "\n",
       "    .dataframe thead th {\n",
       "        text-align: right;\n",
       "    }\n",
       "</style>\n",
       "<table border=\"1\" class=\"dataframe\">\n",
       "  <thead>\n",
       "    <tr style=\"text-align: right;\">\n",
       "      <th></th>\n",
       "      <th>label</th>\n",
       "      <th>comment</th>\n",
       "      <th>author</th>\n",
       "      <th>subreddit</th>\n",
       "      <th>score</th>\n",
       "      <th>ups</th>\n",
       "      <th>downs</th>\n",
       "      <th>date</th>\n",
       "      <th>created_utc</th>\n",
       "      <th>parent_comment</th>\n",
       "    </tr>\n",
       "  </thead>\n",
       "  <tbody>\n",
       "    <tr>\n",
       "      <th>0</th>\n",
       "      <td>0</td>\n",
       "      <td>NC and NH.</td>\n",
       "      <td>Trumpbart</td>\n",
       "      <td>politics</td>\n",
       "      <td>2</td>\n",
       "      <td>-1</td>\n",
       "      <td>-1</td>\n",
       "      <td>2016-10</td>\n",
       "      <td>2016-10-16 23:55:23</td>\n",
       "      <td>Yeah, I get that argument. At this point, I'd ...</td>\n",
       "    </tr>\n",
       "  </tbody>\n",
       "</table>\n",
       "</div>"
      ],
      "text/plain": [
       "   label     comment     author subreddit  score  ups  downs     date  \\\n",
       "0      0  NC and NH.  Trumpbart  politics      2   -1     -1  2016-10   \n",
       "\n",
       "           created_utc                                     parent_comment  \n",
       "0  2016-10-16 23:55:23  Yeah, I get that argument. At this point, I'd ...  "
      ]
     },
     "execution_count": 5,
     "metadata": {},
     "output_type": "execute_result"
    }
   ],
   "source": [
    "src_df.head(1)"
   ]
  },
  {
   "cell_type": "code",
   "execution_count": 6,
   "id": "f1699466",
   "metadata": {},
   "outputs": [
    {
     "data": {
      "text/plain": [
       "0    Yeah, I get that argument. At this point, I'd ...\n",
       "Name: parent_comment, dtype: object"
      ]
     },
     "execution_count": 6,
     "metadata": {},
     "output_type": "execute_result"
    }
   ],
   "source": [
    "src_df.head(1)['parent_comment']"
   ]
  },
  {
   "cell_type": "code",
   "execution_count": 7,
   "id": "928daa89",
   "metadata": {
    "scrolled": true
   },
   "outputs": [],
   "source": [
    "import re\n",
    "import pickle\n",
    "import emoji\n",
    "import numpy as np\n",
    "\n",
    "with open('Emoticon_Dict.p', 'rb') as fp:\n",
    "    Emoticon_Dict = pickle.load(fp)\n",
    "\n",
    "def convert_emoticon_and_emoji_to_word(text):\n",
    "    for emot in Emoticon_Dict:\n",
    "        text = re.sub(r'('+emot+')', \" \".join(Emoticon_Dict[emot].replace(\",\",\"\").replace(\":\",\"\").replace(\"andry\", \"angry\").split(\" \")), text)\n",
    "    return emoji.demojize(text).replace(\":\", \"\").replace(\"_\",\" \")"
   ]
  },
  {
   "cell_type": "code",
   "execution_count": 9,
   "id": "d605d54d",
   "metadata": {
    "scrolled": true
   },
   "outputs": [
    {
     "data": {
      "text/plain": [
       "{':‑\\\\)': 'Happy face or smiley',\n",
       " ':\\\\)': 'Happy face or smiley',\n",
       " ':-\\\\]': 'Happy face or smiley',\n",
       " ':\\\\]': 'Happy face or smiley',\n",
       " ':-3': 'Happy face smiley',\n",
       " ':3': 'Happy face smiley',\n",
       " ':->': 'Happy face smiley',\n",
       " ':>': 'Happy face smiley',\n",
       " '8-\\\\)': 'Happy face smiley',\n",
       " ':o\\\\)': 'Happy face smiley',\n",
       " ':-\\\\}': 'Happy face smiley',\n",
       " ':\\\\}': 'Happy face smiley',\n",
       " ':-\\\\)': 'Smile',\n",
       " ':c\\\\)': 'Happy face smiley',\n",
       " ':\\\\^\\\\)': 'Happy face smiley',\n",
       " '=\\\\]': 'Happy face smiley',\n",
       " '=\\\\)': 'Happy face smiley',\n",
       " ':‑D': 'Laughing, big grin or laugh with glasses',\n",
       " ':D': 'Happy face',\n",
       " '8‑D': 'Laughing, big grin or laugh with glasses',\n",
       " '8D': 'Laughing, big grin or laugh with glasses',\n",
       " 'X‑D': 'Laughing, big grin or laugh with glasses',\n",
       " 'XD': 'Laughing, big grin or laugh with glasses',\n",
       " '=D': 'Laughing, big grin or laugh with glasses',\n",
       " '=3': 'Laughing, big grin or laugh with glasses',\n",
       " 'B\\\\^D': 'Laughing, big grin or laugh with glasses',\n",
       " ':-\\\\)\\\\)': 'Really happy:-DBig grin',\n",
       " ':‑\\\\(': 'Frown, sad, andry or pouting',\n",
       " ':-\\\\(': 'Sad',\n",
       " ':\\\\(': 'Frown, sad, andry or pouting',\n",
       " ':‑c': 'Frown, sad, andry or pouting',\n",
       " ':c': 'Frown, sad, andry or pouting',\n",
       " ':‑<': 'Frown, sad, andry or pouting',\n",
       " ':<': 'Frown, sad, andry or pouting',\n",
       " ':‑\\\\[': 'Frown, sad, andry or pouting',\n",
       " ':\\\\[': 'Frown, sad, andry or pouting',\n",
       " ':-\\\\|\\\\|': 'Mad',\n",
       " '>:\\\\[': 'Frown, sad, andry or pouting',\n",
       " ':\\\\{': 'Frown, sad, andry or pouting',\n",
       " ':@': 'Frown, sad, andry or pouting',\n",
       " '>:\\\\(': 'Frown, sad, andry or pouting',\n",
       " \":'‑\\\\(\": 'Crying',\n",
       " \":'\\\\(\": 'Crying',\n",
       " \":'‑\\\\)\": 'Tears of happiness',\n",
       " \":'\\\\)\": 'Tears of happiness',\n",
       " \"D‑':\": 'Horror',\n",
       " 'D:<': 'Disgust',\n",
       " 'D:': 'Sadness',\n",
       " 'D8': 'Great dismay',\n",
       " 'D;': 'Great dismay',\n",
       " 'D=': 'Great dismay',\n",
       " 'DX': 'Great dismay',\n",
       " ':‑O': 'Surprise',\n",
       " ':O': 'Surprise',\n",
       " ':‑o': 'Surprise',\n",
       " ':o': 'Surprise',\n",
       " ':-0': 'Shock',\n",
       " '8‑0': 'Yawn',\n",
       " '>:O': 'Yawn',\n",
       " ':-\\\\*': 'A kiss',\n",
       " ':\\\\*': 'Kiss',\n",
       " ':X': 'Kiss',\n",
       " ';‑\\\\)': 'Wink or smirk',\n",
       " ';\\\\)': 'Wink or smirk',\n",
       " '\\\\*-\\\\)': 'Wink or smirk',\n",
       " '\\\\*\\\\)': 'Wink or smirk',\n",
       " ';‑\\\\]': 'Wink or smirk',\n",
       " ';\\\\]': 'Wink or smirk',\n",
       " ';\\\\^\\\\)': 'Wink or smirk',\n",
       " ':‑,': 'Wink or smirk',\n",
       " ';D': 'Wink or smirk',\n",
       " ':‑P': 'Tongue sticking out, cheeky, playful or blowing a raspberry',\n",
       " ':P': 'Tongue sticking out, cheeky, playful or blowing a raspberry',\n",
       " 'X‑P': 'Tongue sticking out, cheeky, playful or blowing a raspberry',\n",
       " 'XP': 'Tongue sticking out, cheeky, playful or blowing a raspberry',\n",
       " ':‑Þ': 'Tongue sticking out, cheeky, playful or blowing a raspberry',\n",
       " ':Þ': 'Tongue sticking out, cheeky, playful or blowing a raspberry',\n",
       " ':b': 'Tongue sticking out, cheeky, playful or blowing a raspberry',\n",
       " 'd:': 'Tongue sticking out, cheeky, playful or blowing a raspberry',\n",
       " '=p': 'Tongue sticking out, cheeky, playful or blowing a raspberry',\n",
       " '>:P': 'Tongue sticking out, cheeky, playful or blowing a raspberry',\n",
       " ':‑/': 'Skeptical, annoyed, undecided, uneasy or hesitant',\n",
       " ':/': 'Skeptical, annoyed, undecided, uneasy or hesitant',\n",
       " ':-[.]': 'Skeptical, annoyed, undecided, uneasy or hesitant',\n",
       " '>:[(\\\\\\\\)]': 'Skeptical, annoyed, undecided, uneasy or hesitant',\n",
       " '>:/': 'Skeptical, annoyed, undecided, uneasy or hesitant',\n",
       " ':[(\\\\\\\\)]': 'Skeptical, annoyed, undecided, uneasy or hesitant',\n",
       " '=/': 'Skeptical, annoyed, undecided, uneasy or hesitant',\n",
       " '=[(\\\\\\\\)]': 'Skeptical, annoyed, undecided, uneasy or hesitant',\n",
       " ':L': 'Skeptical, annoyed, undecided, uneasy or hesitant',\n",
       " '=L': 'Skeptical, annoyed, undecided, uneasy or hesitant',\n",
       " ':S': 'Skeptical, annoyed, undecided, uneasy or hesitant',\n",
       " ':‑\\\\|': 'Straight face',\n",
       " ':\\\\|': 'Straight face',\n",
       " ':$': 'Embarrassed or blushing',\n",
       " ':‑x': 'Sealed lips or wearing braces or tongue-tied',\n",
       " ':x': 'Sealed lips or wearing braces or tongue-tied',\n",
       " ':‑#': 'Sealed lips or wearing braces or tongue-tied',\n",
       " ':#': 'Sealed lips or wearing braces or tongue-tied',\n",
       " ':‑&': 'Sealed lips or wearing braces or tongue-tied',\n",
       " ':&': 'Sealed lips or wearing braces or tongue-tied',\n",
       " 'O:‑\\\\)': 'Angel, saint or innocent',\n",
       " 'O:\\\\)': 'Angel, saint or innocent',\n",
       " '0:‑3': 'Angel, saint or innocent',\n",
       " '0:3': 'Angel, saint or innocent',\n",
       " '0:‑\\\\)': 'Angel, saint or innocent',\n",
       " '0:\\\\)': 'Angel, saint or innocent',\n",
       " ':‑b': 'Tongue sticking out, cheeky, playful or blowing a raspberry',\n",
       " '0;\\\\^\\\\)': 'Angel, saint or innocent',\n",
       " '>:‑\\\\)': 'Evil or devilish',\n",
       " '>:\\\\)': 'Evil or devilish',\n",
       " '\\\\}:‑\\\\)': 'Evil or devilish',\n",
       " '\\\\}:\\\\)': 'Evil or devilish',\n",
       " '3:‑\\\\)': 'Evil or devilish',\n",
       " '3:\\\\)': 'Evil or devilish',\n",
       " '>;\\\\)': 'Evil or devilish',\n",
       " '\\\\|;‑\\\\)': 'Cool',\n",
       " '\\\\|‑O': 'Bored',\n",
       " ':‑J': 'Tongue-in-cheek',\n",
       " '#‑\\\\)': 'Party all night',\n",
       " '%‑\\\\)': 'Drunk or confused',\n",
       " '%\\\\)': 'Drunk or confused',\n",
       " ':-###..': 'Being sick',\n",
       " ':###..': 'Being sick',\n",
       " '<:‑\\\\|': 'Dump',\n",
       " '\\\\(>_<\\\\)': 'Troubled',\n",
       " '\\\\(>_<\\\\)>': 'Troubled',\n",
       " \"\\\\(';'\\\\)\": 'Baby',\n",
       " '\\\\(\\\\^\\\\^>``': 'Nervous or Embarrassed or Troubled or Shy or Sweat drop',\n",
       " '\\\\(\\\\^_\\\\^;\\\\)': 'Nervous or Embarrassed or Troubled or Shy or Sweat drop',\n",
       " '\\\\(-_-;\\\\)': 'Nervous or Embarrassed or Troubled or Shy or Sweat drop',\n",
       " '\\\\(~_~;\\\\) \\\\(・\\\\.・;\\\\)': 'Nervous or Embarrassed or Troubled or Shy or Sweat drop',\n",
       " '\\\\(-_-\\\\)zzz': 'Sleeping',\n",
       " '\\\\(\\\\^_-\\\\)': 'Wink',\n",
       " '\\\\(\\\\(\\\\+_\\\\+\\\\)\\\\)': 'Confused',\n",
       " '\\\\(\\\\+o\\\\+\\\\)': 'Confused',\n",
       " '\\\\(o\\\\|o\\\\)': 'Ultraman',\n",
       " '\\\\^_\\\\^': 'Joyful',\n",
       " '\\\\(\\\\^_\\\\^\\\\)/': 'Joyful',\n",
       " '\\\\(\\\\^O\\\\^\\\\)／': 'Joyful',\n",
       " '\\\\(\\\\^o\\\\^\\\\)／': 'Joyful',\n",
       " '\\\\(__\\\\)': 'Kowtow as a sign of respect, or dogeza for apology',\n",
       " '_\\\\(\\\\._\\\\.\\\\)_': 'Kowtow as a sign of respect, or dogeza for apology',\n",
       " '<\\\\(_ _\\\\)>': 'Kowtow as a sign of respect, or dogeza for apology',\n",
       " '<m\\\\(__\\\\)m>': 'Kowtow as a sign of respect, or dogeza for apology',\n",
       " 'm\\\\(__\\\\)m': 'Kowtow as a sign of respect, or dogeza for apology',\n",
       " 'm\\\\(_ _\\\\)m': 'Kowtow as a sign of respect, or dogeza for apology',\n",
       " \"\\\\('_'\\\\)\": 'Sad or Crying',\n",
       " '\\\\(/_;\\\\)': 'Sad or Crying',\n",
       " '\\\\(T_T\\\\) \\\\(;_;\\\\)': 'Sad or Crying',\n",
       " '\\\\(;_;': 'Sad of Crying',\n",
       " '\\\\(;_:\\\\)': 'Sad or Crying',\n",
       " '\\\\(;O;\\\\)': 'Sad or Crying',\n",
       " '\\\\(:_;\\\\)': 'Sad or Crying',\n",
       " '\\\\(ToT\\\\)': 'Sad or Crying',\n",
       " ';_;': 'Sad or Crying',\n",
       " ';-;': 'Sad or Crying',\n",
       " ';n;': 'Sad or Crying',\n",
       " ';;': 'Sad or Crying',\n",
       " 'Q\\\\.Q': 'Sad or Crying',\n",
       " 'T\\\\.T': 'Sad or Crying',\n",
       " 'QQ': 'Sad or Crying',\n",
       " 'Q_Q': 'Sad or Crying',\n",
       " '\\\\(-\\\\.-\\\\)': 'Shame',\n",
       " '\\\\(-_-\\\\)': 'Shame',\n",
       " '\\\\(一一\\\\)': 'Shame',\n",
       " '\\\\(；一_一\\\\)': 'Shame',\n",
       " '\\\\(=_=\\\\)': 'Tired',\n",
       " '\\\\(=\\\\^\\\\·\\\\^=\\\\)': 'cat',\n",
       " '\\\\(=\\\\^\\\\·\\\\·\\\\^=\\\\)': 'cat',\n",
       " '=_\\\\^=\\t': 'cat',\n",
       " '\\\\(\\\\.\\\\.\\\\)': 'Looking down',\n",
       " '\\\\(\\\\._\\\\.\\\\)': 'Looking down',\n",
       " '\\\\^m\\\\^': 'Giggling with hand covering mouth',\n",
       " '\\\\(\\\\・\\\\・?': 'Confusion',\n",
       " '\\\\(?_?\\\\)': 'Confusion',\n",
       " '>\\\\^_\\\\^<': 'Normal Laugh',\n",
       " '<\\\\^!\\\\^>': 'Normal Laugh',\n",
       " '\\\\^/\\\\^': 'Normal Laugh',\n",
       " '\\\\（\\\\*\\\\^_\\\\^\\\\*）': 'Normal Laugh',\n",
       " '\\\\(\\\\^<\\\\^\\\\) \\\\(\\\\^\\\\.\\\\^\\\\)': 'Normal Laugh',\n",
       " '\\\\(^\\\\^\\\\)': 'Normal Laugh',\n",
       " '\\\\(\\\\^\\\\.\\\\^\\\\)': 'Normal Laugh',\n",
       " '\\\\(\\\\^_\\\\^\\\\.\\\\)': 'Normal Laugh',\n",
       " '\\\\(\\\\^_\\\\^\\\\)': 'Normal Laugh',\n",
       " '\\\\(\\\\^\\\\^\\\\)': 'Normal Laugh',\n",
       " '\\\\(\\\\^J\\\\^\\\\)': 'Normal Laugh',\n",
       " '\\\\(\\\\*\\\\^\\\\.\\\\^\\\\*\\\\)': 'Normal Laugh',\n",
       " '\\\\(\\\\^—\\\\^\\\\）': 'Normal Laugh',\n",
       " '\\\\(#\\\\^\\\\.\\\\^#\\\\)': 'Normal Laugh',\n",
       " '\\\\（\\\\^—\\\\^\\\\）': 'Waving',\n",
       " '\\\\(;_;\\\\)/~~~': 'Waving',\n",
       " '\\\\(\\\\^\\\\.\\\\^\\\\)/~~~': 'Waving',\n",
       " '\\\\(-_-\\\\)/~~~ \\\\($\\\\·\\\\·\\\\)/~~~': 'Waving',\n",
       " '\\\\(T_T\\\\)/~~~': 'Waving',\n",
       " '\\\\(ToT\\\\)/~~~': 'Waving',\n",
       " '\\\\(\\\\*\\\\^0\\\\^\\\\*\\\\)': 'Excited',\n",
       " '\\\\(\\\\*_\\\\*\\\\)': 'Amazed',\n",
       " '\\\\(\\\\*_\\\\*;': 'Amazed',\n",
       " '\\\\(\\\\+_\\\\+\\\\) \\\\(@_@\\\\)': 'Amazed',\n",
       " '\\\\(\\\\*\\\\^\\\\^\\\\)v': 'Laughing,Cheerful',\n",
       " '\\\\(\\\\^_\\\\^\\\\)v': 'Laughing,Cheerful',\n",
       " '\\\\(\\\\(d[-_-]b\\\\)\\\\)': 'Headphones,Listening to music',\n",
       " '\\\\(-\"-\\\\)': 'Worried',\n",
       " '\\\\(ーー;\\\\)': 'Worried',\n",
       " '\\\\(\\\\^0_0\\\\^\\\\)': 'Eyeglasses',\n",
       " '\\\\(\\\\＾ｖ\\\\＾\\\\)': 'Happy',\n",
       " '\\\\(\\\\＾ｕ\\\\＾\\\\)': 'Happy',\n",
       " '\\\\(\\\\^\\\\)o\\\\(\\\\^\\\\)': 'Happy',\n",
       " '\\\\(\\\\^O\\\\^\\\\)': 'Happy',\n",
       " '\\\\(\\\\^o\\\\^\\\\)': 'Happy',\n",
       " '\\\\)\\\\^o\\\\^\\\\(': 'Happy',\n",
       " ':O o_O': 'Surprised',\n",
       " 'o_0': 'Surprised',\n",
       " 'o\\\\.O': 'Surpised',\n",
       " '\\\\(o\\\\.o\\\\)': 'Surprised',\n",
       " 'oO': 'Surprised',\n",
       " '\\\\(\\\\*￣m￣\\\\)': 'Dissatisfied',\n",
       " '\\\\(‘A`\\\\)': 'Snubbed or Deflated',\n",
       " \"'\\\\(\": 'Crying',\n",
       " ';-\\\\)': 'Smile with a wink',\n",
       " ':<\\\\}\\\\)': 'User with moustache, smiling',\n",
       " \":'-\\\\(\": 'Crying:~Also crying',\n",
       " ':-P~': 'A lick',\n",
       " ':-o': \"Wow! or I'm surprised\",\n",
       " ':-\\\\|': 'Grim:-PSticking out your tongue',\n",
       " ':-': 'User happens to be Popeye',\n",
       " ':-/': 'Perplexed',\n",
       " '=:O': 'Frightened (hair standing on end)'}"
      ]
     },
     "execution_count": 9,
     "metadata": {},
     "output_type": "execute_result"
    }
   ],
   "source": [
    "Emoticon_Dict"
   ]
  },
  {
   "cell_type": "code",
   "execution_count": 8,
   "id": "dc4d9469",
   "metadata": {},
   "outputs": [
    {
     "data": {
      "text/plain": [
       "'I recommend uninstalling the old drivers before you install the new ones as well Happy face or smiley'"
      ]
     },
     "execution_count": 8,
     "metadata": {},
     "output_type": "execute_result"
    }
   ],
   "source": [
    "convert_emoticon_and_emoji_to_word(\"I recommend uninstalling the old drivers before you install the new ones as well :)\")"
   ]
  },
  {
   "cell_type": "code",
   "execution_count": 10,
   "id": "07cfe272",
   "metadata": {},
   "outputs": [
    {
     "data": {
      "text/plain": [
       "'game is on fire fire'"
      ]
     },
     "execution_count": 10,
     "metadata": {},
     "output_type": "execute_result"
    }
   ],
   "source": [
    "convert_emoticon_and_emoji_to_word(\"game is on 🔥 🔥\")"
   ]
  },
  {
   "cell_type": "code",
   "execution_count": 12,
   "id": "104afa80",
   "metadata": {},
   "outputs": [
    {
     "data": {
      "text/plain": [
       "'meat on bone TEXT breadmeat on bone OTHER TEXT'"
      ]
     },
     "execution_count": 12,
     "metadata": {},
     "output_type": "execute_result"
    }
   ],
   "source": [
    "convert_emoticon_and_emoji_to_word( \"🍖 TEXT 🍞🍖 OTHER TEXT\")"
   ]
  },
  {
   "cell_type": "code",
   "execution_count": 102,
   "id": "e9e6348d",
   "metadata": {},
   "outputs": [
    {
     "name": "stderr",
     "output_type": "stream",
     "text": [
      "100%|██████████| 1010826/1010826 [08:10<00:00, 2060.49it/s]\n",
      "100%|██████████| 1010826/1010826 [08:35<00:00, 1959.11it/s]\n"
     ]
    }
   ],
   "source": [
    "#Region to clean and store the comments in s3\n",
    "from tqdm import tqdm\n",
    "tqdm.pandas()\n",
    "src_df['cleaned_comment'] = src_df['comment'].replace(np.nan, \" \").progress_apply(convert_emoticon_and_emoji_to_word)\n",
    "src_df['parent_cleaned_comment'] = src_df['parent_comment'].replace(np.nan, \" \").progress_apply(convert_emoticon_and_emoji_to_word)\n",
    "\n",
    "clean_file_name = \"train-balanced-sarcasm-cleaned.csv\"\n",
    "src_df.to_csv(clean_file_name)\n",
    "\n",
    "s3 = boto3.resource('s3')\n",
    "s3.meta.client.upload_file(clean_file_name, bucket, f'data/{clean_file_name}')"
   ]
  },
  {
   "cell_type": "code",
   "execution_count": 103,
   "id": "ae8300ba",
   "metadata": {},
   "outputs": [
    {
     "data": {
      "text/plain": [
       "comment                              I recommend uninstalling the old drivers before you install the new ones as well :)\n",
       "cleaned_comment    I recommend uninstalling the old drivers before you install the new ones as well Happy face or smiley\n",
       "Name: 176, dtype: object"
      ]
     },
     "execution_count": 103,
     "metadata": {},
     "output_type": "execute_result"
    }
   ],
   "source": [
    "src_df.loc[176, ['comment', 'cleaned_comment']]"
   ]
  },
  {
   "cell_type": "code",
   "execution_count": null,
   "id": "6556bbaf",
   "metadata": {},
   "outputs": [],
   "source": []
  }
 ],
 "metadata": {
  "kernelspec": {
   "display_name": "conda_pytorch_p36",
   "language": "python",
   "name": "conda_pytorch_p36"
  },
  "language_info": {
   "codemirror_mode": {
    "name": "ipython",
    "version": 3
   },
   "file_extension": ".py",
   "mimetype": "text/x-python",
   "name": "python",
   "nbconvert_exporter": "python",
   "pygments_lexer": "ipython3",
   "version": "3.6.13"
  }
 },
 "nbformat": 4,
 "nbformat_minor": 5
}
